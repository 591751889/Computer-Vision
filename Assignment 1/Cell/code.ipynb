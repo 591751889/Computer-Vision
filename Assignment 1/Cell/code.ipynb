{
 "cells": [
  {
   "cell_type": "code",
   "execution_count": 8,
   "metadata": {
    "pycharm": {
     "is_executing": true
    }
   },
   "outputs": [],
   "source": [
    "import cv2\n",
    "\n",
    "import numpy as np\n",
    "\n",
    "img = cv2.imread(\"Cells.png\")\n",
    "\n",
    "gray = cv2.cvtColor(img, cv2.COLOR_BGR2GRAY)\n",
    "\n",
    "I = gray\n",
    "\n",
    "n = 20"
   ]
  },
  {
   "cell_type": "code",
   "execution_count": 9,
   "metadata": {
    "pycharm": {
     "name": "#%%\n"
    }
   },
   "outputs": [],
   "source": [
    "def max_filter(img, n):\n",
    "    row, column = img.shape\n",
    "\n",
    "    pad = int(n / 2)\n",
    "\n",
    "    max_f = np.zeros((row + pad * 2, column + pad * 2))\n",
    "\n",
    "    max_f[pad: pad + row, pad: pad + column] = gray.copy()\n",
    "\n",
    "    tmp = max_f.copy()\n",
    "\n",
    "    for y in range(row):\n",
    "\n",
    "        for x in range(column):\n",
    "            max_f[pad + y, pad + x] = np.max(tmp[y: y + n, x: x + n])\n",
    "\n",
    "    max_f = max_f[pad: pad + row, pad: pad + column].astype(np.uint8)\n",
    "\n",
    "    return max_f\n",
    "\n",
    "\n",
    "def min_filter(img, n):\n",
    "    row, column = img.shape\n",
    "\n",
    "    # Zero padding\n",
    "\n",
    "    pad = n // 2\n",
    "\n",
    "    min_f = np.zeros((row + pad * 2, column + pad * 2), dtype=np.float)\n",
    "\n",
    "    min_f[pad: pad + row, pad: pad + column] = gray.copy().astype(np.float)\n",
    "\n",
    "    tmp = min_f.copy()\n",
    "\n",
    "    for y in range(row):\n",
    "\n",
    "        for x in range(column):\n",
    "            min_f[pad + y, pad + x] = np.min(tmp[y: y + n, x: x + n])\n",
    "\n",
    "    min_f = min_f[pad: pad + row, pad: pad + column].astype(np.uint8)\n",
    "\n",
    "    return min_f\n",
    "\n"
   ]
  },
  {
   "cell_type": "code",
   "execution_count": 10,
   "metadata": {},
   "outputs": [],
   "source": [
    "A = min_filter(gray, n)\n",
    "cv2.imwrite(\"A.jpg\", A)\n",
    "\n",
    "B = max_filter(A, n)\n",
    "cv2.imwrite(\"B.jpg\", B)\n",
    "\n",
    "O = I - B\n",
    "cv2.imwrite(\"O.jpg\", O)\n"
   ]
  },
  {
   "cell_type": "code",
   "execution_count": null,
   "metadata": {},
   "outputs": [],
   "source": []
  },
  {
   "cell_type": "code",
   "execution_count": null,
   "metadata": {},
   "outputs": [],
   "source": []
  }
 ],
 "metadata": {
  "kernelspec": {
   "display_name": "Python 3",
   "language": "python",
   "name": "python3"
  },
  "language_info": {
   "codemirror_mode": {
    "name": "ipython",
    "version": 3
   },
   "file_extension": ".py",
   "mimetype": "text/x-python",
   "name": "python",
   "nbconvert_exporter": "python",
   "pygments_lexer": "ipython3",
   "version": "3.6.5"
  },
  "pycharm": {
   "stem_cell": {
    "cell_type": "raw",
    "metadata": {
     "collapsed": false
    },
    "source": []
   }
  }
 },
 "nbformat": 4,
 "nbformat_minor": 1
}
